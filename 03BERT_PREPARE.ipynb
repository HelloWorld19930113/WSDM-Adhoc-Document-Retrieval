{
 "cells": [
  {
   "cell_type": "code",
   "execution_count": 1,
   "metadata": {},
   "outputs": [],
   "source": [
    "import pandas as pd\n",
    "import cupy\n",
    "import cupyx\n",
    "import numpy as np\n",
    "import swifter"
   ]
  },
  {
   "cell_type": "code",
   "execution_count": 2,
   "metadata": {},
   "outputs": [],
   "source": [
    "val = pd.read_hdf('cleaned.h5', 'val')\n",
    "train = pd.read_hdf('cleaned.h5', 'train')\n",
    "candid = pd.read_hdf('cleaned.h5', 'candid')\n",
    "candid = candid.reset_index(drop=True)"
   ]
  },
  {
   "cell_type": "code",
   "execution_count": 3,
   "metadata": {},
   "outputs": [],
   "source": [
    "train = train.replace('\\\\n','', regex=True)\n",
    "train = train.replace('\\\\r','', regex=True)\n",
    "candid = candid.replace('\\\\n','', regex=True)\n",
    "candid = candid.replace('\\\\r','', regex=True)\n",
    "val = val.replace('\\\\n','', regex=True)\n",
    "val = val.replace('\\\\r','', regex=True)"
   ]
  },
  {
   "cell_type": "code",
   "execution_count": 4,
   "metadata": {},
   "outputs": [
    {
     "data": {
      "text/plain": [
       "12"
      ]
     },
     "execution_count": 4,
     "metadata": {},
     "output_type": "execute_result"
    }
   ],
   "source": [
    "12"
   ]
  },
  {
   "cell_type": "code",
   "execution_count": 5,
   "metadata": {},
   "outputs": [
    {
     "data": {
      "application/vnd.jupyter.widget-view+json": {
       "model_id": "f4ab8778f51e4be0877a1f5bd37b5e20",
       "version_major": 2,
       "version_minor": 0
      },
      "text/plain": [
       "HBox(children=(FloatProgress(value=0.0, description='Dask Apply', max=96.0, style=ProgressStyle(description_wi…"
      ]
     },
     "metadata": {},
     "output_type": "display_data"
    },
    {
     "name": "stdout",
     "output_type": "stream",
     "text": [
      "\n"
     ]
    },
    {
     "data": {
      "application/vnd.jupyter.widget-view+json": {
       "model_id": "6ba7f7a5496d443788e832c46e05703f",
       "version_major": 2,
       "version_minor": 0
      },
      "text/plain": [
       "HBox(children=(FloatProgress(value=0.0, description='Dask Apply', max=96.0, style=ProgressStyle(description_wi…"
      ]
     },
     "metadata": {},
     "output_type": "display_data"
    },
    {
     "name": "stdout",
     "output_type": "stream",
     "text": [
      "\n"
     ]
    }
   ],
   "source": [
    "candid.abstract = candid.abstract.swifter.allow_dask_on_strings().apply(lambda x: ''.join([\" \" if ord(i) < 32 or ord(i) > 126 else i for i in x]))\n",
    "candid.title = candid.title.swifter.allow_dask_on_strings().apply(lambda x: ''.join([\" \" if ord(i) < 32 or ord(i) > 126 else i for i in x]))\n",
    "\n",
    "# train.description_text = train.description_text.apply(lambda x: ''.join([\" \" if ord(i) < 32 or ord(i) > 126 else i for i in x]))\n",
    "# val.description_text = val.description_text.apply(lambda x: ''.join([\" \" if ord(i) < 32 or ord(i) > 126 else i for i in x]))"
   ]
  },
  {
   "cell_type": "code",
   "execution_count": null,
   "metadata": {},
   "outputs": [],
   "source": []
  },
  {
   "cell_type": "code",
   "execution_count": 6,
   "metadata": {},
   "outputs": [],
   "source": [
    "bm25_rank_train = np.load('train_recall3.0_0.75.npy') # or ber\n",
    "bm25_rank_val = np.load('val_recall.npy')"
   ]
  },
  {
   "cell_type": "code",
   "execution_count": 7,
   "metadata": {},
   "outputs": [
    {
     "data": {
      "text/plain": [
       "(62975, 10000)"
      ]
     },
     "execution_count": 7,
     "metadata": {},
     "output_type": "execute_result"
    }
   ],
   "source": [
    "bm25_rank_train.shape"
   ]
  },
  {
   "cell_type": "code",
   "execution_count": 8,
   "metadata": {},
   "outputs": [],
   "source": [
    "# check the recall rate in topk\n",
    "def check_recall_rate(k = 10):\n",
    "    idx2pid = candid['paper_id'].to_dict()\n",
    "    pid2idx = {v: k for k, v in idx2pid.items()}\n",
    "    \n",
    "    cnt = 0\n",
    "    tot = 0\n",
    "    not_found = 0\n",
    "    isin_top3 = 0\n",
    "    map_score = 0\n",
    "    for idx,row in enumerate(bm25_rank_train):\n",
    "        row = row[:k]\n",
    "        paper_id = train.iloc[idx].paper_id\n",
    "        \n",
    "        if paper_id not in pid2idx:\n",
    "            not_found +=1\n",
    "            continue\n",
    "        correct_id = pid2idx[paper_id]\n",
    "        \n",
    "        if correct_id in row:\n",
    "            cnt += 1\n",
    "        if correct_id in row[:3]:\n",
    "            isin_top3 += 1\n",
    "            if correct_id == row[0]:\n",
    "                map_score += 1.\n",
    "            elif correct_id == row[1]:\n",
    "                map_score += .5\n",
    "            elif correct_id == row[2]:\n",
    "                map_score += 1/3.\n",
    "        tot += 1\n",
    "    print('recall:', round(cnt / tot * 100,4) ,\n",
    "          '\\nnot found:', not_found,\n",
    "          '\\nin top3 rate:', round(isin_top3 / tot * 100,4),\n",
    "          '\\nmap:', round(map_score / tot,4))\n",
    "    "
   ]
  },
  {
   "cell_type": "code",
   "execution_count": 9,
   "metadata": {},
   "outputs": [
    {
     "name": "stdout",
     "output_type": "stream",
     "text": [
      "recall: 46.9828 \n",
      "not found: 897 \n",
      "in top3 rate: 37.9796 \n",
      "map: 0.3255\n"
     ]
    }
   ],
   "source": [
    "\"\"\"\n",
    "bm25_2.0_0.75\n",
    "recall: 48.307 \n",
    "not found: 897 \n",
    "in top3 rate: 39.2796 \n",
    "map: 0.339\n",
    "\n",
    "bm25_1.2_0.75\n",
    "recall: 49.085 \n",
    "not found: 897 \n",
    "in top3 rate: 40.2365 \n",
    "map: 0.349\n",
    "\n",
    "bm25_0.7_0.75\n",
    "recall: 48.9143 \n",
    "not found: 897 \n",
    "in top3 rate: 40.338 \n",
    "map: 0.352\n",
    "\n",
    "bm25_1.2_0.87\n",
    "recall: 49.3331 \n",
    "not found: 897 \n",
    "in top3 rate: 40.3895 \n",
    "map: 0.3505\n",
    "\"\"\"\n",
    "check_recall_rate(k=10)"
   ]
  },
  {
   "cell_type": "code",
   "execution_count": 10,
   "metadata": {},
   "outputs": [
    {
     "name": "stdout",
     "output_type": "stream",
     "text": [
      "recall: 52.1022 \n",
      "not found: 897 \n",
      "in top3 rate: 37.9796 \n",
      "map: 0.3255\n"
     ]
    }
   ],
   "source": [
    "\"\"\"\n",
    "bm25_2.0_0.75\n",
    "recall: 53.1622 \n",
    "not found: 897 \n",
    "in top3 rate: 39.2796 \n",
    "map: 0.339\n",
    "\n",
    "bm25_1.2_0.75\n",
    "recall: 53.7485 \n",
    "not found: 897 \n",
    "in top3 rate: 40.2365 \n",
    "map: 0.349\n",
    "\"\"\"\n",
    "check_recall_rate(k=20)"
   ]
  },
  {
   "cell_type": "code",
   "execution_count": 11,
   "metadata": {},
   "outputs": [
    {
     "name": "stdout",
     "output_type": "stream",
     "text": [
      "recall: 55.0662 \n",
      "not found: 897 \n",
      "in top3 rate: 37.9796 \n",
      "map: 0.3255\n"
     ]
    }
   ],
   "source": [
    "\"\"\"\n",
    "bm25_2.0_0.75\n",
    "recall: 56.0295 \n",
    "not found: 897 \n",
    "in top3 rate: 39.2796 \n",
    "map: 0.339\n",
    "\n",
    "bm25_1.2_0.75\n",
    "recall: 56.4934 \n",
    "not found: 897 \n",
    "in top3 rate: 40.2365 \n",
    "map: 0.349\n",
    "\n",
    "\"\"\"\n",
    "check_recall_rate(k=30)"
   ]
  },
  {
   "cell_type": "code",
   "execution_count": 12,
   "metadata": {},
   "outputs": [
    {
     "name": "stdout",
     "output_type": "stream",
     "text": [
      "recall: 57.0138 \n",
      "not found: 897 \n",
      "in top3 rate: 37.9796 \n",
      "map: 0.3255\n"
     ]
    }
   ],
   "source": [
    "\"\"\"\n",
    "bm25_2.0_0.75\n",
    "recall: 57.9142 \n",
    "not found: 897 \n",
    "in top3 rate: 39.2796 \n",
    "map: 0.339\n",
    "\n",
    "bm25_1.2_0.75\n",
    "recall: 58.3798 \n",
    "not found: 897 \n",
    "in top3 rate: 40.2365 \n",
    "map: 0.349\n",
    "\n",
    "\"\"\"\n",
    "check_recall_rate(k=40)"
   ]
  },
  {
   "cell_type": "code",
   "execution_count": 13,
   "metadata": {},
   "outputs": [
    {
     "name": "stdout",
     "output_type": "stream",
     "text": [
      "recall: 58.4925 \n",
      "not found: 897 \n",
      "in top3 rate: 37.9796 \n",
      "map: 0.3255\n"
     ]
    }
   ],
   "source": [
    "\"\"\"\n",
    "bm25_2.0_0.75\n",
    "recall: 59.3399 \n",
    "not found: 897 \n",
    "in top3 rate: 39.2796 \n",
    "map: 0.339\n",
    "\n",
    "bm25_1.2_0.75\n",
    "recall: 59.749 \n",
    "not found: 897 \n",
    "in top3 rate: 40.2365 \n",
    "map: 0.349\n",
    "\n",
    "\"\"\"\n",
    "check_recall_rate(k=50)"
   ]
  },
  {
   "cell_type": "code",
   "execution_count": 14,
   "metadata": {},
   "outputs": [
    {
     "name": "stdout",
     "output_type": "stream",
     "text": [
      "recall: 63.0964 \n",
      "not found: 897 \n",
      "in top3 rate: 37.9796 \n",
      "map: 0.3255\n"
     ]
    }
   ],
   "source": [
    "\"\"\"\n",
    "bm25_2.0_0.75\n",
    "recall: 63.8084 \n",
    "not found: 897 \n",
    "in top3 rate: 39.2796 \n",
    "map: 0.339\n",
    "\n",
    "bm25_1.2_0.75\n",
    "recall: 64.1048 \n",
    "not found: 897 \n",
    "in top3 rate: 40.2365 \n",
    "map: 0.349\n",
    "\n",
    "\"\"\"\n",
    "check_recall_rate(k=100)"
   ]
  },
  {
   "cell_type": "code",
   "execution_count": 15,
   "metadata": {},
   "outputs": [
    {
     "name": "stdout",
     "output_type": "stream",
     "text": [
      "recall: 72.4975 \n",
      "not found: 897 \n",
      "in top3 rate: 37.9796 \n",
      "map: 0.3255\n"
     ]
    }
   ],
   "source": [
    "check_recall_rate(k=500)"
   ]
  },
  {
   "cell_type": "code",
   "execution_count": 16,
   "metadata": {},
   "outputs": [
    {
     "name": "stdout",
     "output_type": "stream",
     "text": [
      "recall: 75.861 \n",
      "not found: 897 \n",
      "in top3 rate: 37.9796 \n",
      "map: 0.3255\n"
     ]
    }
   ],
   "source": [
    "\"\"\"\n",
    "bm25_2.0_0.75\n",
    "recall: 76.0656 \n",
    "not found: 897 \n",
    "in top3 rate: 39.2796 \n",
    "map: 0.339\n",
    "\n",
    "bm25_1.2_0.75\n",
    "recall: 76.0366 \n",
    "not found: 897 \n",
    "in top3 rate: 40.2365 \n",
    "map: 0.349\n",
    "\n",
    "bm25_0.7_0.75\n",
    "\"\"\"\n",
    "check_recall_rate(k=1000)"
   ]
  },
  {
   "cell_type": "code",
   "execution_count": 17,
   "metadata": {},
   "outputs": [
    {
     "name": "stdout",
     "output_type": "stream",
     "text": [
      "recall: 84.0072 \n",
      "not found: 897 \n",
      "in top3 rate: 37.9796 \n",
      "map: 0.3255\n"
     ]
    }
   ],
   "source": [
    "check_recall_rate(k=10000)"
   ]
  },
  {
   "cell_type": "code",
   "execution_count": 7,
   "metadata": {},
   "outputs": [],
   "source": [
    "# Generator Train"
   ]
  },
  {
   "cell_type": "code",
   "execution_count": 7,
   "metadata": {},
   "outputs": [
    {
     "name": "stdout",
     "output_type": "stream",
     "text": [
      "0\n",
      "2000\n",
      "3000\n",
      "4000\n",
      "6000\n",
      "7000\n",
      "9000\n",
      "10000\n",
      "12000\n",
      "13000\n",
      "14000\n",
      "16000\n",
      "17000\n",
      "21000\n",
      "24000\n",
      "25000\n",
      "27000\n",
      "33000\n",
      "35000\n",
      "41000\n",
      "42000\n",
      "45000\n",
      "48000\n",
      "50000\n",
      "51000\n",
      "53000\n",
      "54000\n",
      "55000\n",
      "56000\n",
      "57000\n",
      "59000\n",
      "61000\n",
      "62000\n"
     ]
    }
   ],
   "source": [
    "def gen_trainset(k=20):\n",
    "    idx2pid = candid['paper_id'].to_dict()\n",
    "    pid2idx = {v: k for k, v in idx2pid.items()}\n",
    "    train_set = []\n",
    "    train_val_set = []\n",
    "    \n",
    "    des = train.description_text.to_list()\n",
    "    tit = candid.title.to_list()\n",
    "    abst = candid.abstract.to_list()\n",
    "    \n",
    "    for idx,row in enumerate(bm25_rank_train):\n",
    "        row = row[:k]\n",
    "        paper_id = train.iloc[idx].paper_id\n",
    "        \n",
    "        if paper_id not in pid2idx:\n",
    "            continue\n",
    "            # 无答案\n",
    "        \n",
    "        correct_id = pid2idx[paper_id]\n",
    "        if correct_id not in row:\n",
    "            continue\n",
    "            # 答案未被召回\n",
    "            \n",
    "        for pid in row:\n",
    "            \n",
    "            t = {\n",
    "                'relavence': int(correct_id == pid),\n",
    "                'qidx': idx,\n",
    "                'pidx': pid,\n",
    "                'q_text': des[idx],\n",
    "                'd_text': tit[pid] + ' ' + abst[pid]\n",
    "            }\n",
    "            \n",
    "            if (idx < 62000):\n",
    "                if correct_id == pid:\n",
    "                    for i in range(k - 1): # balance\n",
    "                        train_set.append(t)\n",
    "                else:\n",
    "                    train_set.append(t)\n",
    "            else:\n",
    "                if correct_id == pid:\n",
    "                    for i in range(k - 1): # balance\n",
    "                        train_val_set.append(t)\n",
    "                else:\n",
    "                    train_val_set.append(t)\n",
    "            \n",
    "        if (idx % 1000 == 0):\n",
    "            print(idx)\n",
    "    \n",
    "    pd.DataFrame(train_set).to_csv('bert_train.tsv', sep='\\t', index=False)\n",
    "    pd.DataFrame(train_val_set).to_csv('bert_train_val.tsv', sep='\\t', index=False)\n",
    "gen_trainset(k=20)"
   ]
  },
  {
   "cell_type": "code",
   "execution_count": 8,
   "metadata": {},
   "outputs": [
    {
     "data": {
      "text/plain": [
       "1"
      ]
     },
     "execution_count": 8,
     "metadata": {},
     "output_type": "execute_result"
    }
   ],
   "source": [
    "1"
   ]
  },
  {
   "cell_type": "code",
   "execution_count": 12,
   "metadata": {},
   "outputs": [
    {
     "data": {
      "text/plain": [
       "1"
      ]
     },
     "execution_count": 12,
     "metadata": {},
     "output_type": "execute_result"
    }
   ],
   "source": [
    "1"
   ]
  },
  {
   "cell_type": "code",
   "execution_count": 208,
   "metadata": {},
   "outputs": [
    {
     "name": "stdout",
     "output_type": "stream",
     "text": [
      "recall_list [399651 445059  31071 409500  86217 245199 626399 577599 428215 261118]\n",
      "is_recalled: True\n",
      "ans: 626399\n"
     ]
    }
   ],
   "source": [
    "idx = 50113\n",
    "print('recall_list', bm25_rank_train[idx,:10])\n",
    "idx2pid = candid['paper_id'].to_dict()\n",
    "pid2idx = {v: k for k, v in idx2pid.items()}\n",
    "print('is_recalled:', pid2idx[train.iloc[idx].paper_id] in bm25_rank_train[idx,:10])\n",
    "print('ans:', pid2idx[train.iloc[idx].paper_id])"
   ]
  },
  {
   "cell_type": "code",
   "execution_count": 215,
   "metadata": {},
   "outputs": [
    {
     "name": "stdout",
     "output_type": "stream",
     "text": [
      "recall_list [526064 452238 399427 424030 500370 623774 543678 415005 469279 437445]\n",
      "is_recalled: True\n",
      "ans: 437445\n"
     ]
    }
   ],
   "source": [
    "idx = 50123\n",
    "print('recall_list', bm25_rank_train[idx,:10])\n",
    "idx2pid = candid['paper_id'].to_dict()\n",
    "pid2idx = {v: k for k, v in idx2pid.items()}\n",
    "print('is_recalled:', pid2idx[train.iloc[idx].paper_id] in bm25_rank_train[idx,:10])\n",
    "print('ans:', pid2idx[train.iloc[idx].paper_id])"
   ]
  },
  {
   "cell_type": "code",
   "execution_count": 223,
   "metadata": {},
   "outputs": [
    {
     "name": "stdout",
     "output_type": "stream",
     "text": [
      "recall_list [475310 509216  12398 366430 564468 376736 195028 269660 139719 538495]\n",
      "is_recalled: True\n",
      "ans: 12398\n"
     ]
    }
   ],
   "source": [
    "idx = 50138\n",
    "print('recall_list', bm25_rank_train[idx,:10])\n",
    "idx2pid = candid['paper_id'].to_dict()\n",
    "pid2idx = {v: k for k, v in idx2pid.items()}\n",
    "print('is_recalled:', pid2idx[train.iloc[idx].paper_id] in bm25_rank_train[idx,:10])\n",
    "print('ans:', pid2idx[train.iloc[idx].paper_id])"
   ]
  },
  {
   "cell_type": "code",
   "execution_count": null,
   "metadata": {},
   "outputs": [],
   "source": []
  },
  {
   "cell_type": "code",
   "execution_count": 251,
   "metadata": {},
   "outputs": [
    {
     "data": {
      "text/plain": [
       "array([ 22181,  21122,  10172, 262537,  84151, 478581,  48248, 157013,\n",
       "        17607,  19681,  16816, 581586,  19688,  66812, 524472,  22182,\n",
       "        19694, 636020, 542709,  15159,  59167,  10960,   8837, 338248,\n",
       "         4026, 353713, 551293, 331105,  32562,  19691, 522166,   2880,\n",
       "         1178,  22183, 461102,  28832, 531112,  33887,  16071,   8121,\n",
       "        11543, 522513, 363646, 189090,  67595, 170588, 607793,  19693,\n",
       "       280454,   8119], dtype=int64)"
      ]
     },
     "execution_count": 251,
     "metadata": {},
     "output_type": "execute_result"
    }
   ],
   "source": [
    "bm25_rank_val[8][:50]"
   ]
  },
  {
   "cell_type": "code",
   "execution_count": 10,
   "metadata": {},
   "outputs": [
    {
     "data": {
      "text/plain": [
       "{'abstract': 'Different homozygous lines of similar genotype with respect to G6pd and 6Pgd were shown to have different enzyme activities for G6PD and 6PGD. Crosses between high and low lines suggested that there were modifying genes present on the autosomes, while others were probably located on the X chromosome. Allelic variation within each electrophoretic class of G6pd and 6Pgd might, however, also have contributed to this variation. An experiment on adaptation to sodium octanoate demonstrated that in adapted flies selection for lower enzyme activity had occurred, which provided further evidence for the existence of genetic differences in activity. Furthermore, a strong positive correlation between the activities of G6PD and 6PGD was found for each genotype. Since no correlation was found between MDH and the two enzymes G6PD and 6PGD, it could be concluded that this correlation was probably rather specific for G6PD and 6PGD. Interaction between genotypes with respect to activity was also found. It was shown that the variation at 6Pgd influenced the activity of G6PD within a genotype. The data are discussed in relation to fitness differences presented in foregoing articles.',\n",
       " 'journal': 'Biochemical genetics',\n",
       " 'keywords': '',\n",
       " 'paper_id': '55a5ef482401defa0daae5b1',\n",
       " 'title': 'Polymorphism at the G6pd and 6Pgd loci in Drosophila melanogaster. IV. Genetic factors modifying enzyme activity.',\n",
       " 'year': 1980.0}"
      ]
     },
     "execution_count": 10,
     "metadata": {},
     "output_type": "execute_result"
    }
   ],
   "source": [
    "candid.iloc[59167].to_dict()"
   ]
  },
  {
   "cell_type": "code",
   "execution_count": 258,
   "metadata": {},
   "outputs": [
    {
     "data": {
      "text/plain": [
       "{'abstract': \"The severity of enzyme deficiency often does not correlate well with the clinical severity of genetic diseases. Thus, some G6PD variants associated with severe enzyme deficiency, such as Union and Markham, cause no hemolytic problem, while some variants associated with less severe deficiency, such as Manchester, Alhambra, and Tripler, cause chronic hemolytic anemia. The kinetic characteristics of these variant enzymes have not explained the discrepancy. However, examination of the normal and variant enzymes under simulated physiologic conditions, with the effects of various intermediate metabolites and co-enzymes in red cells being taken into consideration, reveal that the G6PD's from hemolytic variant subjects are strongly inhibited by a physiologic concentration of NADPH because of their high Michaelis constant for NADP or low inhibition constant for NADPH, and they are more sensitive to inhibition by ATP. These variant enzymes cannot generate enough NADPH in red cells to maintain an adequate concentration of reduced glutathione. The nonhemolytic variant enzymes are far less sensitive to the inhibition by NADPH because of their low Michaelis constant for NADP and high inhibition constant for NADPH. The physiologic activity of these nonhemolytic variant enzymes is estimated to be more than 30 percent of the activity of the normal G6PD, and this activity is adequate to maintain the red cells unhemolyzed.\",\n",
       " 'journal': 'Science (New York, N.Y.)',\n",
       " 'keywords': '',\n",
       " 'paper_id': '5d0b59ef3a55accdb06fb9f0',\n",
       " 'title': 'Hemolytic anemia and G6PD deficiency.',\n",
       " 'year': 1973.0}"
      ]
     },
     "execution_count": 258,
     "metadata": {},
     "output_type": "execute_result"
    }
   ],
   "source": [
    "candid.iloc[8837].to_dict()"
   ]
  },
  {
   "cell_type": "code",
   "execution_count": null,
   "metadata": {},
   "outputs": [],
   "source": []
  }
 ],
 "metadata": {
  "kernelspec": {
   "display_name": "Python 3",
   "language": "python",
   "name": "python3"
  },
  "language_info": {
   "codemirror_mode": {
    "name": "ipython",
    "version": 3
   },
   "file_extension": ".py",
   "mimetype": "text/x-python",
   "name": "python",
   "nbconvert_exporter": "python",
   "pygments_lexer": "ipython3",
   "version": "3.7.1"
  }
 },
 "nbformat": 4,
 "nbformat_minor": 4
}
